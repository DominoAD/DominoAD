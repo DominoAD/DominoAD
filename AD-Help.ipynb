{
 "cells": [
  {
   "cell_type": "code",
   "execution_count": null,
   "id": "45d6afab-370c-4eb9-b8b7-2fdb92b8659b",
   "metadata": {},
   "outputs": [],
   "source": [
    "#List of Websites\n",
    "https://www.linkedin.com/learning/\n",
    "https://www.linkedin.com/learning/\n",
    "https://learn.microsoft.com/en-us/training/paths/beginner-python/\n",
    "https://www.python.org/doc/\n",
    "https://py.checkio.org"
   ]
  },
  {
   "cell_type": "code",
   "execution_count": null,
   "id": "9f2a9433-4d71-4741-aa14-5ff6515c261c",
   "metadata": {},
   "outputs": [],
   "source": [
    "#Help Practice ICA8"
   ]
  },
  {
   "cell_type": "code",
   "execution_count": null,
   "id": "f253e4d4-33ff-4ba8-a57d-d8eb07a8c590",
   "metadata": {},
   "outputs": [],
   "source": [
    "def  fundamentalConcepts():\n",
    "    print('variables')\n",
    "    print('operators')\n",
    "    print('number systems')\n",
    "\n",
    "def logicDesign():\n",
    "    print('Truth Tables')\n",
    "    print('IPO Chart')    \n",
    "    print('Flow Chart')\n",
    "    print('Problem Solving')\n",
    "    print('Documentation ') \n",
    "\n",
    "def programmingConstructs():\n",
    "    print('Selection Structures ')\n",
    "    print('Repitition structures ') \n",
    "    print('Reading from a file ') \n",
    "    print('writing to a file ')\n",
    "\n",
    "\n",
    "def displayInstructions():\n",
    "    print('\\nInstructions:') \n",
    "    #get input from the user\n",
    "    int(input('Enter the number of the category of help you would like to see: '))\n",
    "    #display 5 categories of help\n",
    "    if input == 1:\n",
    "        fundamentalConcepts()\n",
    "    elif input == 2:\n",
    "        logicDesign()\n",
    "    elif input == 3:\n",
    "        programmingConstructs()\n",
    "        return None\n",
    "\n",
    "def main():\n",
    "    print('Welcome to the Help Program')\n",
    "\n",
    "main()\n",
    "displayInstructions()"
   ]
  },
  {
   "cell_type": "code",
   "execution_count": null,
   "id": "8c57ff43-0fac-48fe-9753-bbdf3827eadf",
   "metadata": {},
   "outputs": [],
   "source": []
  }
 ],
 "metadata": {
  "kernelspec": {
   "display_name": "Python 3 (ipykernel)",
   "language": "python",
   "name": "python3"
  },
  "language_info": {
   "codemirror_mode": {
    "name": "ipython",
    "version": 3
   },
   "file_extension": ".py",
   "mimetype": "text/x-python",
   "name": "python",
   "nbconvert_exporter": "python",
   "pygments_lexer": "ipython3",
   "version": "3.12.0"
  }
 },
 "nbformat": 4,
 "nbformat_minor": 5
}
